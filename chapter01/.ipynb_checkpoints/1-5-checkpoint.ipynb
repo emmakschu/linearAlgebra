{
 "cells": [
  {
   "cell_type": "markdown",
   "metadata": {},
   "source": [
    "<h1>Linear Algebra and its Applications</h1>\n",
    "<h3>Fifth Edition<br>by Lay, Lay, and McDonald</h3>\n",
    "<p>Notes and examples of how to use Python for linear algebra problem solving by Michael K Schumacher<br><a href=\"http://mkschumacher.com\">mkschumacher.com</a></p>"
   ]
  },
  {
   "cell_type": "code",
   "execution_count": 1,
   "metadata": {
    "collapsed": true
   },
   "outputs": [],
   "source": [
    "\"\"\"\n",
    "Python version 2.7, running in Jupyter notebook\n",
    "Encoding: UTF-8\n",
    "\"\"\"\n",
    "\n",
    "# Import the necessary modules to work with linear algebra\n",
    "\n",
    "# Sympy and numpy will be used for arrays, matrices, symbolic algebra, etc\n",
    "import sympy as sy\n",
    "import numpy as np\n",
    "\n",
    "# Matplotlib.pyplot will be used for plotting graphs\n",
    "import matplotlib.pyplot as plt\n",
    "%matplotlib notebook\n",
    "\n",
    "# Will use init_printing to display nice, LaTeX-based matrices, etc\n",
    "from sympy.interactive.printing import init_printing\n",
    "init_printing(use_unicode=False, wrap_line=False, no_global=True)"
   ]
  },
  {
   "cell_type": "markdown",
   "metadata": {},
   "source": [
    "<h2>Section 1.5</h2>"
   ]
  },
  {
   "cell_type": "markdown",
   "metadata": {},
   "source": [
    "<h3>Example 1</h3>"
   ]
  },
  {
   "cell_type": "code",
   "execution_count": 2,
   "metadata": {
    "collapsed": false
   },
   "outputs": [
    {
     "data": {
      "image/png": "[encoded data removed]",
      "text/latex": [
       "$$\\left ( \\left[\\begin{matrix}1 & 0 & - \\frac{4}{3} & 0\\\\0 & 1 & 0 & 0\\\\0 & 0 & 0 & 0\\end{matrix}\\right], \\quad \\left [ 0, \\quad 1\\right ]\\right )$$"
      ],
      "text/plain": [
       "([1  0  -4/3  0], [0, 1])\n",
       " [             ]         \n",
       " [0  1   0    0]         \n",
       " [             ]         \n",
       " [0  0   0    0]         "
      ]
     },
     "execution_count": 2,
     "metadata": {},
     "output_type": "execute_result"
    }
   ],
   "source": [
    "A = sy.Matrix([[3,5,-4], [-3,-2,4], [6,1,-8]])\n",
    "b = sy.Matrix((0, 0, 0))\n",
    "A.row_join(b).rref()"
   ]
  },
  {
   "cell_type": "markdown",
   "metadata": {},
   "source": [
    "<p>$x_3$ is free<br>$x_2 = 0$<br>$x_1 = \\frac{4}{3} x_3$</p>\n",
    "\n",
    "<p>$A\\mathbf{x} = \\mathbf{0}$ has the form $x_3 \\left[ \\begin{array}{r} \\frac{4}{3} \\\\ 0 \\\\ 1 \\\\ \\end{array} \\right] = x_3 \\mathbf{v}$ where $\\mathbf{v} = \\left[ \\begin{array}{r} \\frac{4}{3} \\\\ 0 \\\\ 1 \\\\ \\end{array} \\right]$</p>"
   ]
  },
  {
   "cell_type": "markdown",
   "metadata": {},
   "source": [
    "<h3>Example 2</h3>"
   ]
  },
  {
   "cell_type": "markdown",
   "metadata": {},
   "source": [
    "<p>$10x_1 - 3x_2 - 2x_3 = 0 \\Rightarrow x_1 = .3x_2 + .2x_3$</p>\n",
    "\n",
    "\n",
    "<p>Being only one equation, matrix functions won't work to solve this in Python. Sympy includes a function called <b>solveset</b> which will work well, however. The syntax is: <code>solveset(<i>equation</i>, <i>variable for which we want to solve explicitly</i>)</code></p>"
   ]
  },
  {
   "cell_type": "code",
   "execution_count": 3,
   "metadata": {
    "collapsed": false
   },
   "outputs": [
    {
     "data": {
      "image/png": "[encoded data removed]",
      "text/latex": [
       "$$\\left\\{\\frac{3 x_{2}}{10} + \\frac{x_{3}}{5}\\right\\}$$"
      ],
      "text/plain": [
       " 3*x_2   x_3 \n",
       "{----- + ---}\n",
       "   10     5  "
      ]
     },
     "execution_count": 3,
     "metadata": {},
     "output_type": "execute_result"
    }
   ],
   "source": [
    "x, y, z = sy.symbols('x_1 x_2 x_3')\n",
    "sy.solveset(10*x - 3*y - 2*z, x)"
   ]
  },
  {
   "cell_type": "markdown",
   "metadata": {},
   "source": [
    "<p>Showing that when the given expression is zero, $x_1 = .3x_2 + .2x_3$, as we calculated mentally above</p>\n",
    "\n",
    "<p>This can be written as a vector solution:</p>\n",
    "\n",
    "<p>$\\mathbf{x} = x_2 \\left[ \\begin{array}{r} .3\\\\1\\\\0\\\\ \\end{array} \\right] + x_3 \\left[ \\begin{array}{r} .2\\\\0\\\\1\\\\ \\end{array} \\right]$</p>\n",
    "\n",
    "<p>Let $x_2 = s, x_3 = t, \\mathbf{u} = \\left[ \\begin{array}{r} .3\\\\1\\\\0\\\\ \\end{array} \\right], \\mathbf{v} = \\left[ \\begin{array}{r} .2\\\\0\\\\1\\\\ \\end{array} \\right]$, then</p>\n",
    "\n",
    "<p>$\\mathbf{x} = s\\mathbf{u} + t\\mathbf{v}$</p>\n",
    "\n",
    "<p>This latter form is the <i>Parametric Vector Form</i></p>"
   ]
  },
  {
   "cell_type": "markdown",
   "metadata": {},
   "source": [
    "<h3>Example 3</h3>"
   ]
  },
  {
   "cell_type": "code",
   "execution_count": 4,
   "metadata": {
    "collapsed": false
   },
   "outputs": [
    {
     "data": {
      "image/png": "[encoded data removed]",
      "text/latex": [
       "$$\\left ( \\left[\\begin{matrix}1 & 0 & - \\frac{4}{3} & -1\\\\0 & 1 & 0 & 2\\\\0 & 0 & 0 & 0\\end{matrix}\\right], \\quad \\left [ 0, \\quad 1\\right ]\\right )$$"
      ],
      "text/plain": [
       "([1  0  -4/3  -1], [0, 1])\n",
       " [              ]         \n",
       " [0  1   0    2 ]         \n",
       " [              ]         \n",
       " [0  0   0    0 ]         "
      ]
     },
     "execution_count": 4,
     "metadata": {},
     "output_type": "execute_result"
    }
   ],
   "source": [
    "# Matrix A is the same as assigned in Example 1\n",
    "b = sy.Matrix((7,-1,-4))\n",
    "A.row_join(b).rref()"
   ]
  },
  {
   "cell_type": "markdown",
   "metadata": {},
   "source": [
    "<p>$\\mathbf{x} = \\left[ \\begin{array}{r} x_1\\\\x_2\\\\x_3 \\\\ \\end{array} \\right] = \\left[ \\begin{array}{c} -1+\\frac{4}{3}x_3\\\\ 2\\\\ x_3\\\\ \\end{array} \\right] = \\left[ \\begin{array}{r} -1\\\\ 2\\\\ 0\\\\ \\end{array} \\right] + x_3 \\left[ \\begin{array}{r} \\frac{4}{3}\\\\ 0\\\\ 1\\\\ \\end{array} \\right]$</p>\n",
    "\n",
    "<p>Or, in parametric vector form: Let $x_3 = t, \\mathbf{p} = \\left[ \\begin{array}{r} -1\\\\2\\\\0\\\\ \\end{array} \\right], \\mathbf{v} = \\left[ \\begin{array}{r}\\frac{4}{3}\\\\ 0\\\\ 1\\\\ \\end{array} \\right]$</p>\n",
    "\n",
    "<p>$\\mathbf{x} = \\mathbf{p} + t\\mathbf{v}$</p>"
   ]
  },
  {
   "cell_type": "markdown",
   "metadata": {},
   "source": [
    "<h3>Practice Problem 1</h3>"
   ]
  },
  {
   "cell_type": "code",
   "execution_count": 5,
   "metadata": {
    "collapsed": false
   },
   "outputs": [
    {
     "data": {
      "image/png": "[encoded data removed]",
      "text/latex": [
       "$$\\left ( \\left[\\begin{matrix}1 & 0 & 3 & 4\\\\0 & 1 & -2 & -1\\end{matrix}\\right], \\quad \\left [ 0, \\quad 1\\right ]\\right )$$"
      ],
      "text/plain": [
       "([1  0  3   4 ], [0, 1])\n",
       " [            ]         \n",
       " [0  1  -2  -1]         "
      ]
     },
     "execution_count": 5,
     "metadata": {},
     "output_type": "execute_result"
    }
   ],
   "source": [
    "A = sy.Matrix([[1,4,-5], [2,-1,8]])\n",
    "b = sy.Matrix((0,9))\n",
    "A.row_join(b).rref()"
   ]
  },
  {
   "cell_type": "markdown",
   "metadata": {},
   "source": [
    "<p>$x_3$ is free<br>$x_2 = 2x_3 - 1$<br>$x_1 = 4 - 3x_3$</p>"
   ]
  },
  {
   "cell_type": "markdown",
   "metadata": {},
   "source": [
    "<p>$\\mathbf{x} = \\left[ \\begin{array}{r} 4\\\\-1\\\\0\\\\ \\end{array} \\right] + x_3 \\left[ \\begin{array}{r} -3\\\\2\\\\1\\\\ \\end{array} \\right]$</p>\n",
    "\n",
    "<p>The planes intersect on line through $\\left[ \\begin{array}{r} 4\\\\-1\\\\0\\\\ \\end{array} \\right]$ in direction $\\left[ \\begin{array}{r} -3\\\\2\\\\1\\\\ \\end{array} \\right]$</p>"
   ]
  },
  {
   "cell_type": "code",
   "execution_count": null,
   "metadata": {
    "collapsed": true
   },
   "outputs": [],
   "source": []
  }
 ],
 "metadata": {
  "kernelspec": {
   "display_name": "Python 2",
   "language": "python",
   "name": "python2"
  },
  "language_info": {
   "codemirror_mode": {
    "name": "ipython",
    "version": 2
   },
   "file_extension": ".py",
   "mimetype": "text/x-python",
   "name": "python",
   "nbconvert_exporter": "python",
   "pygments_lexer": "ipython2",
   "version": "2.7.13"
  }
 },
 "nbformat": 4,
 "nbformat_minor": 0
}
