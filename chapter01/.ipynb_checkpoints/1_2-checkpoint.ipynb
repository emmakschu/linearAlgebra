{
 "cells": [
  {
   "cell_type": "markdown",
   "metadata": {},
   "source": [
    "<h1>Linear Algebra and its Applications</h1>\n",
    "<h3>Fifth Edition<br>by Lay, Lay, and McDonald</h3>\n",
    "<p>Notes and examples of how to use Python for linear algebra problem solving by Michael K Schumacher<br><a href=\"http://mkschumacher.com\">mkschumacher.com</a></p>"
   ]
  },
  {
   "cell_type": "code",
   "execution_count": 1,
   "metadata": {
    "collapsed": true
   },
   "outputs": [],
   "source": [
    "\"\"\"\n",
    "Python version 2.7, running in Jupyter notebook\n",
    "Encoding: UTF-8\n",
    "\"\"\"\n",
    "\n",
    "# Import the necessary modules to work with linear algebra\n",
    "\n",
    "# Sympy and numpy will be used for arrays, matrices, symbolic algebra, etc\n",
    "import sympy as sy\n",
    "import numpy as np\n",
    "\n",
    "# Matplotlib.pyplot will be used for plotting graphs\n",
    "import matplotlib.pyplot as plt\n",
    "%matplotlib notebook\n",
    "\n",
    "# Will use init_printing to display nice, LaTeX-based matrices, etc\n",
    "from sympy.interactive.printing import init_printing\n",
    "init_printing(use_unicode=False, wrap_line=False, no_global=True)"
   ]
  },
  {
   "cell_type": "markdown",
   "metadata": {},
   "source": [
    "<h2>Section 1.2</h2>"
   ]
  },
  {
   "cell_type": "markdown",
   "metadata": {},
   "source": [
    "<p>Since the (non-reduced) echelon form is of little value compared to the reduced echelon, Sympy does not have a built-in method to obtain a (non-reduced) echelon form of a matrix. This part of the section is more an exercise in performing matrix operations by hand.</p>\n",
    "\n",
    "<p>It is worth noting, however, that the Sympy <b>rref</b> function does also return the pivot positions.</p>"
   ]
  },
  {
   "cell_type": "markdown",
   "metadata": {},
   "source": [
    "<h3>Example 2: Reduce a matrix and find pivot points</h3>\n",
    "\n",
    "<p>$A = \\left[ \\begin{array}{rrrrr}\n",
    "    0 & -3 & -6 & 4 & 9 \\\\\n",
    "    -1 & -2 & -1 & 3 & 1 \\\\\n",
    "    -2 & -3 & 0 & 3 & -1 \\\\\n",
    "    1 & 4 & 5 & -9 & -7 \\\\ \\end{array} \\right]$ </p>"
   ]
  },
  {
   "cell_type": "code",
   "execution_count": 2,
   "metadata": {
    "collapsed": false
   },
   "outputs": [
    {
     "data": {
      "image/png": "[encoded data removed]",
      "text/latex": [
       "$$\\left ( \\left[\\begin{matrix}1 & 0 & -3 & 0 & 5\\\\0 & 1 & 2 & 0 & -3\\\\0 & 0 & 0 & 1 & 0\\\\0 & 0 & 0 & 0 & 0\\end{matrix}\\right], \\quad \\left [ 0, \\quad 1, \\quad 3\\right ]\\right )$$"
      ],
      "text/plain": [
       "([1  0  -3  0  5 ], [0, 1, 3])\n",
       " [               ]            \n",
       " [0  1  2   0  -3]            \n",
       " [               ]            \n",
       " [0  0  0   1  0 ]            \n",
       " [               ]            \n",
       " [0  0  0   0  0 ]            "
      ]
     },
     "execution_count": 2,
     "metadata": {},
     "output_type": "execute_result"
    }
   ],
   "source": [
    "A = sy.Matrix([[0,-3,-6,4,9], [-1,-2,-1,3,1], [-2,-3,0,3,-1], [1,4,5,-9,-7]])\n",
    "A.rref()"
   ]
  },
  {
   "cell_type": "markdown",
   "metadata": {},
   "source": [
    "<p>The second array given as output of the <b>rref</b> function shows us that pivot (i.e. non-free or <i>basic</i>) variables are at index locations 0, 1, and 3. Remember that Python uses 0-based indexing, so this means the variables represented by columns 1, 2, and 4 are basic, while column 3 is free.</p>"
   ]
  },
  {
   "cell_type": "markdown",
   "metadata": {},
   "source": [
    "<h3>Example 3: Reduce and find pivot points again</h3>\n",
    "\n",
    "<p>$A = \\left[ \\begin{array}{rrrrrr}\n",
    "    0 & 3 & -6 & 6 & 4 & -5 \\\\\n",
    "    3 & -7 & 8 & -5 & 8 & 9 \\\\\n",
    "    3 & -9 & 12 & -9 & 6 & 15 \\\\ \\end{array} \\right]$ </p>"
   ]
  },
  {
   "cell_type": "code",
   "execution_count": 3,
   "metadata": {
    "collapsed": false
   },
   "outputs": [
    {
     "data": {
      "image/png": "[encoded data removed]",
      "text/latex": [
       "$$\\left ( \\left[\\begin{matrix}1 & 0 & -2 & 3 & 0 & -24\\\\0 & 1 & -2 & 2 & 0 & -7\\\\0 & 0 & 0 & 0 & 1 & 4\\end{matrix}\\right], \\quad \\left [ 0, \\quad 1, \\quad 4\\right ]\\right )$$"
      ],
      "text/plain": [
       "([1  0  -2  3  0  -24], [0, 1, 4])\n",
       " [                   ]            \n",
       " [0  1  -2  2  0  -7 ]            \n",
       " [                   ]            \n",
       " [0  0  0   0  1   4 ]            "
      ]
     },
     "execution_count": 3,
     "metadata": {},
     "output_type": "execute_result"
    }
   ],
   "source": [
    "A = sy.Matrix([[0,3,-6,6,4,-5], [3,-7,8,-5,8,9], [3,-9,12,-9,6,15]])\n",
    "A.rref()"
   ]
  },
  {
   "cell_type": "markdown",
   "metadata": {},
   "source": [
    "<p>Again, the second array tells us that pivot variables are those represented by columns 1, 2, and 5.</p>"
   ]
  },
  {
   "cell_type": "markdown",
   "metadata": {},
   "source": [
    "<h3>Example 4: Find the general solution of a system</h3>\n",
    "\n",
    "<p>$A = \\left[ \\begin{array}{rrrrrr}\n",
    "    1 & 6 & 2 & -5 & -2 & -4 \\\\\n",
    "    0 & 0 & 2 & -8 & -1 & 3 \\\\\n",
    "    0 & 0 & 0 & 0 & 1 & 7 \\\\ \\end{array} \\right]$ </p>\n",
    "\n",
    "<p>Again, we get the matrix into reduced echelon form, then define the basic variables in terms of the free variables (which we will call $x_1 \\cdots x_5$).</p>"
   ]
  },
  {
   "cell_type": "code",
   "execution_count": 4,
   "metadata": {
    "collapsed": false
   },
   "outputs": [
    {
     "data": {
      "image/png": "[encoded data removed]",
      "text/latex": [
       "$$\\left ( \\left[\\begin{matrix}1 & 6 & 0 & 3 & 0 & 0\\\\0 & 0 & 1 & -4 & 0 & 5\\\\0 & 0 & 0 & 0 & 1 & 7\\end{matrix}\\right], \\quad \\left [ 0, \\quad 2, \\quad 4\\right ]\\right )$$"
      ],
      "text/plain": [
       "([1  6  0  3   0  0], [0, 2, 4])\n",
       " [                 ]            \n",
       " [0  0  1  -4  0  5]            \n",
       " [                 ]            \n",
       " [0  0  0  0   1  7]            "
      ]
     },
     "execution_count": 4,
     "metadata": {},
     "output_type": "execute_result"
    }
   ],
   "source": [
    "A = sy.Matrix([[1,6,2,-5,-2,-4], [0,0,2,-8,-1,3], [0,0,0,0,1,7]])\n",
    "A.rref()"
   ]
  },
  {
   "cell_type": "markdown",
   "metadata": {},
   "source": [
    "<p>Pivot positions are columns 1, 3, and 5, i.e. $x_1, x_3$, and $x_5$ are basic, while $x_2$ and $x_4$ are free. We now define the basic variables in terms of the free ones.</p>\n",
    "\n",
    "<p>$x_1 = -6x_2 - 3x_4$<br>\n",
    "   $x_2$ is free<br>\n",
    "   $x_3 = 4x_4 + 5$<br>\n",
    "   $x_4$ is free<br>\n",
    "   $x_5 = 7$\n",
    "</p>"
   ]
  },
  {
   "cell_type": "markdown",
   "metadata": {},
   "source": [
    "<h3>Example 5: Determine existence and uniqueness</h3>\n",
    "\n",
    "<p>For the following system:</p>\n",
    "\n",
    "<p>$3x_2 - 6x_3 + 6x_4 + 4x_5 = -5$<br>$3x_1 - 7x_2 + 8x_3 - 5x_4 + 8x_5 = 9$<br>$3x_1 - 9x_2 + 12x_3 - 9x_4 + 6x_5 = 15$</p>"
   ]
  },
  {
   "cell_type": "code",
   "execution_count": 5,
   "metadata": {
    "collapsed": false
   },
   "outputs": [
    {
     "data": {
      "image/png": "[encoded data removed]",
      "text/latex": [
       "$$\\left ( \\left[\\begin{matrix}1 & 0 & -2 & 3 & 0 & -24\\\\0 & 1 & -2 & 2 & 0 & -7\\\\0 & 0 & 0 & 0 & 1 & 4\\end{matrix}\\right], \\quad \\left [ 0, \\quad 1, \\quad 4\\right ]\\right )$$"
      ],
      "text/plain": [
       "([1  0  -2  3  0  -24], [0, 1, 4])\n",
       " [                   ]            \n",
       " [0  1  -2  2  0  -7 ]            \n",
       " [                   ]            \n",
       " [0  0  0   0  1   4 ]            "
      ]
     },
     "execution_count": 5,
     "metadata": {},
     "output_type": "execute_result"
    }
   ],
   "source": [
    "A = sy.Matrix([[0,3,-6,6,4,-5], [3,-7,8,-5,8,9], [3,-9,12,-9,6,15]])\n",
    "A.rref()"
   ]
  },
  {
   "cell_type": "markdown",
   "metadata": {},
   "source": [
    "<p>The reduced echelon shows that the system is consistent, and that variables $x_1, x_2$, and $x_5$ are basic. It follows that variables $x_3$ and $x_4$ are free. Thus <i>infinitely many</i> solutions exist, since the two free variables could equal anything and the system can still work.</p>"
   ]
  },
  {
   "cell_type": "code",
   "execution_count": null,
   "metadata": {
    "collapsed": true
   },
   "outputs": [],
   "source": []
  }
 ],
 "metadata": {
  "kernelspec": {
   "display_name": "Python 2",
   "language": "python",
   "name": "python2"
  },
  "language_info": {
   "codemirror_mode": {
    "name": "ipython",
    "version": 2
   },
   "file_extension": ".py",
   "mimetype": "text/x-python",
   "name": "python",
   "nbconvert_exporter": "python",
   "pygments_lexer": "ipython2",
   "version": "2.7.12"
  }
 },
 "nbformat": 4,
 "nbformat_minor": 0
}
