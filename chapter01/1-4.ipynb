{
 "cells": [
  {
   "cell_type": "markdown",
   "metadata": {},
   "source": [
    "<h1>Linear Algebra and its Applications</h1>\n",
    "<h3>Fifth Edition<br>by Lay, Lay, and McDonald</h3>\n",
    "<p>Notes and examples of how to use Python for linear algebra problem solving by Michael K Schumacher<br><a href=\"http://mkschumacher.com\">mkschumacher.com</a></p>"
   ]
  },
  {
   "cell_type": "code",
   "execution_count": 1,
   "metadata": {
    "collapsed": true
   },
   "outputs": [],
   "source": [
    "\"\"\"\n",
    "Python version 2.7, running in Jupyter notebook\n",
    "Encoding: UTF-8\n",
    "\"\"\"\n",
    "from __future__ import division\n",
    "\n",
    "# Import the necessary modules to work with linear algebra\n",
    "\n",
    "# Sympy and numpy will be used for arrays, matrices, symbolic algebra, etc\n",
    "import sympy as sy\n",
    "import numpy as np\n",
    "\n",
    "# Matplotlib.pyplot will be used for plotting graphs\n",
    "import matplotlib.pyplot as plt\n",
    "%matplotlib notebook\n",
    "\n",
    "# Will use init_printing to display nice, LaTeX-based matrices, etc\n",
    "from sympy.interactive.printing import init_printing\n",
    "init_printing(use_unicode=False, wrap_line=False, no_global=True)"
   ]
  },
  {
   "cell_type": "markdown",
   "metadata": {},
   "source": [
    "<h2>Section 1.4</h2>"
   ]
  },
  {
   "cell_type": "markdown",
   "metadata": {},
   "source": [
    "<p>Given a matrix $A$ with dimensions $m \\times n$, and a vector $\\mathbf{x}$ in $\\mathbb{R}^n$ (i.e., a vector with $n$ dimensions), the product $A\\mathbf{x}$ is the linear combination of columns of $A$ with corresponding entries in $\\mathbf{x}$.</p>\n",
    "\n",
    "<p>$A\\mathbf{x} = \\left[ \\begin{array}{rrrr} \\mathbf{a}_1 & \\mathbf{a}_2 & \\cdots & \\mathbf{a}_n \\\\ \\end{array} \\right] \\left[ \\begin{array}{r} x_1 \\\\ x_2 \\\\ \\cdots \\\\ x_n \\\\ \\end{array} \\right] = x_1 \\mathbf{a}_1 + x_2 \\mathbf{a}_2 + \\cdots + x_n \\mathbf{a}_n$</p>"
   ]
  },
  {
   "cell_type": "markdown",
   "metadata": {},
   "source": [
    "<h3>Example 1</h3>"
   ]
  },
  {
   "cell_type": "markdown",
   "metadata": {},
   "source": [
    "$A = \\left[ \\begin{array}{rrr} 1 & 2 & -1 \\\\ 0 & -5 & 3\\\\ \\end{array} \\right]$\n",
    "\n",
    "$\\mathbf{x} = \\left[ \\begin{array}{r} 4 \\\\ 3 \\\\ 7 \\\\ \\end{array} \\right]$\n",
    "\n",
    "$A \\mathbf{x} = 4 \\left[ \\begin{array}{r} 1\\\\0\\\\ \\end{array} \\right] + 3 \\left[ \\begin{array}{r} 2\\\\-5\\\\ \\end{array} \\right] + 7 \\left[ \\begin{array}{r} -1\\\\3\\\\ \\end{array} \\right] = \\left[ \\begin{array}{r} 4 + 6 + (-7) \\\\ 0 + (-15) + 21\\\\ \\end{array} \\right]$"
   ]
  },
  {
   "cell_type": "code",
   "execution_count": 2,
   "metadata": {
    "collapsed": false
   },
   "outputs": [
    {
     "data": {
      "image/png": "[encoded data removed]",
      "text/latex": [
       "$$\\left[\\begin{matrix}3\\\\6\\end{matrix}\\right]$$"
      ],
      "text/plain": [
       "[3]\n",
       "[ ]\n",
       "[6]"
      ]
     },
     "execution_count": 2,
     "metadata": {},
     "output_type": "execute_result"
    }
   ],
   "source": [
    "A = sy.Matrix([[1,2,-1], [0,-5,3]])\n",
    "x = sy.Matrix((4, 3, 7))\n",
    "A * x"
   ]
  },
  {
   "cell_type": "markdown",
   "metadata": {},
   "source": [
    "<h3>Example 2</h3>"
   ]
  },
  {
   "cell_type": "markdown",
   "metadata": {},
   "source": [
    "<p>The weights (scalars) are $(3,-5,7) = \\mathbf{x}$</p>\n",
    "\n",
    "<p>$A\\mathbf{x} = \\left[ \\begin{array}{rrr} \\mathbf{v}_1 & \\mathbf{v}_2 & \\mathbf{v}_3 \\\\ \\end{array} \\right] \\left[ \\begin{array}{r} 3\\\\-5\\\\7 \\\\ \\end{array} \\right]$</p>"
   ]
  },
  {
   "cell_type": "markdown",
   "metadata": {},
   "source": [
    "<h3>Example 3</h3>"
   ]
  },
  {
   "cell_type": "code",
   "execution_count": 3,
   "metadata": {
    "collapsed": false
   },
   "outputs": [
    {
     "data": {
      "image/png": "[encoded data removed]",
      "text/latex": [
       "$$\\left[\\begin{matrix}1 & 3 & 4 & b_{1}\\\\-4 & 2 & -6 & b_{2}\\\\-3 & -2 & -7 & b_{3}\\end{matrix}\\right]$$"
      ],
      "text/plain": [
       "[1   3   4   b_1]\n",
       "[               ]\n",
       "[-4  2   -6  b_2]\n",
       "[               ]\n",
       "[-3  -2  -7  b_3]"
      ]
     },
     "execution_count": 3,
     "metadata": {},
     "output_type": "execute_result"
    }
   ],
   "source": [
    "b_1 = sy.Symbol('b_1')\n",
    "b_2 = sy.Symbol('b_2')\n",
    "b_3 = sy.Symbol('b_3')\n",
    "\n",
    "A = sy.Matrix([[1,3,4], [-4,2,-6], [-3,-2,-7]])\n",
    "b = sy.Matrix((b_1, b_2, b_3))\n",
    "A.row_join(b)"
   ]
  },
  {
   "cell_type": "markdown",
   "metadata": {},
   "source": [
    "<p>Row reduction leads to the bottom row:</p>\n",
    "$\\left[ \\begin{array}{rrrr} 0 & 0 & 0 & b_1 - \\frac{b_2}{2} + b_3\\\\ \\end{array} \\right]$\n",
    "<p>So, $A\\mathbf{x} = \\mathbf{b}$ is consistent $\\iff b_1 - \\frac{1}{2} b_2 + b_3 = 0$</p>"
   ]
  },
  {
   "cell_type": "markdown",
   "metadata": {},
   "source": [
    "<h3>Example 4</h3>"
   ]
  },
  {
   "cell_type": "code",
   "execution_count": 4,
   "metadata": {
    "collapsed": false
   },
   "outputs": [
    {
     "data": {
      "image/png": "[encoded data removed]",
      "text/latex": [
       "$$\\left[\\begin{matrix}2 x_{1} + 3 x_{2} + 4 x_{3}\\\\- x_{1} + 5 x_{2} - 3 x_{3}\\\\6 x_{1} - 2 x_{2} + 8 x_{3}\\end{matrix}\\right]$$"
      ],
      "text/plain": [
       "[2*x_1 + 3*x_2 + 4*x_3]\n",
       "[                     ]\n",
       "[-x_1 + 5*x_2 - 3*x_3 ]\n",
       "[                     ]\n",
       "[6*x_1 - 2*x_2 + 8*x_3]"
      ]
     },
     "execution_count": 4,
     "metadata": {},
     "output_type": "execute_result"
    }
   ],
   "source": [
    "x_1, x_2, x_3 = sy.symbols('x_1,x_2,x_3')\n",
    "A = sy.Matrix([[2,3,4], [-1,5,-3], [6,-2,8]])\n",
    "x = sy.Matrix((x_1, x_2, x_3))\n",
    "A * x"
   ]
  },
  {
   "cell_type": "markdown",
   "metadata": {},
   "source": [
    "<h3>Example 5</h3>"
   ]
  },
  {
   "cell_type": "code",
   "execution_count": 5,
   "metadata": {
    "collapsed": false
   },
   "outputs": [
    {
     "data": {
      "image/png": "[encoded data removed]",
      "text/latex": [
       "$$\\left[\\begin{matrix}3\\\\6\\end{matrix}\\right]$$"
      ],
      "text/plain": [
       "[3]\n",
       "[ ]\n",
       "[6]"
      ]
     },
     "execution_count": 5,
     "metadata": {},
     "output_type": "execute_result"
    }
   ],
   "source": [
    "A = sy.Matrix([[1,2,-1], [0,-5,3]])\n",
    "x = sy.Matrix((4,3,7))\n",
    "A * x"
   ]
  },
  {
   "cell_type": "code",
   "execution_count": 6,
   "metadata": {
    "collapsed": false
   },
   "outputs": [
    {
     "data": {
      "image/png": "[encoded data removed]",
      "text/latex": [
       "$$\\left[\\begin{matrix}-13\\\\32\\\\-6\\end{matrix}\\right]$$"
      ],
      "text/plain": [
       "[-13]\n",
       "[   ]\n",
       "[32 ]\n",
       "[   ]\n",
       "[-6 ]"
      ]
     },
     "execution_count": 6,
     "metadata": {},
     "output_type": "execute_result"
    }
   ],
   "source": [
    "A = sy.Matrix([[2,-3], [8,0], [-5,2]])\n",
    "x = sy.Matrix((4,7))\n",
    "A * x"
   ]
  },
  {
   "cell_type": "code",
   "execution_count": 7,
   "metadata": {
    "collapsed": false
   },
   "outputs": [
    {
     "data": {
      "image/png": "[encoded data removed]",
      "text/latex": [
       "$$\\left[\\begin{matrix}r\\\\s\\\\t\\end{matrix}\\right]$$"
      ],
      "text/plain": [
       "[r]\n",
       "[ ]\n",
       "[s]\n",
       "[ ]\n",
       "[t]"
      ]
     },
     "execution_count": 7,
     "metadata": {},
     "output_type": "execute_result"
    }
   ],
   "source": [
    "r, s, t = sy.symbols('r,s,t')\n",
    "A = sy.Matrix.eye(3)\n",
    "x = sy.Matrix((r, s, t))\n",
    "A * x"
   ]
  },
  {
   "cell_type": "code",
   "execution_count": null,
   "metadata": {
    "collapsed": true
   },
   "outputs": [],
   "source": []
  }
 ],
 "metadata": {
  "kernelspec": {
   "display_name": "Python 2",
   "language": "python2",
   "name": "python2"
  },
  "language_info": {
   "codemirror_mode": {
    "name": "ipython",
    "version": 2
   },
   "file_extension": ".py",
   "mimetype": "text/x-python",
   "name": "python",
   "nbconvert_exporter": "python",
   "pygments_lexer": "ipython2",
   "version": "2.7.13"
  }
 },
 "nbformat": 4,
 "nbformat_minor": 2
}
